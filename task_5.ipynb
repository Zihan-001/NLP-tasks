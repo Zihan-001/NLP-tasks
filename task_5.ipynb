{
 "cells": [
  {
   "cell_type": "markdown",
   "id": "ff45e86e",
   "metadata": {},
   "source": [
    "## Task 5\n",
    "### Ankesh Singh\n",
    "### 19BCE2502"
   ]
  },
  {
   "cell_type": "code",
   "execution_count": 25,
   "id": "f6586ab0",
   "metadata": {},
   "outputs": [],
   "source": [
    "# Importing the required packages\n",
    "import pandas as pd\n",
    "import csv\n",
    "# import re"
   ]
  },
  {
   "cell_type": "code",
   "execution_count": 26,
   "id": "54a0035d",
   "metadata": {},
   "outputs": [
    {
     "name": "stdout",
     "output_type": "stream",
     "text": [
      "                                                  review sentiment\n",
      "0      One of the other reviewers has mentioned that ...  positive\n",
      "1      A wonderful little production. The filming tec...  positive\n",
      "2      I thought this was a wonderful way to spend ti...  positive\n",
      "3      Basically there's a family where a little boy ...  negative\n",
      "4      Petter Mattei's \"Love in the Time of Money\" is...  positive\n",
      "...                                                  ...       ...\n",
      "49995  I thought this movie did a down right good job...  positive\n",
      "49996  Bad plot, bad dialogue, bad acting, idiotic di...  negative\n",
      "49997  I am a Catholic taught in parochial elementary...  negative\n",
      "49998  I'm going to have to disagree with the previou...  negative\n",
      "49999  No one expects the Star Trek movies to be high...  negative\n",
      "\n",
      "[50000 rows x 2 columns]\n"
     ]
    }
   ],
   "source": [
    "# # read text from csv file\n",
    "# df[\"<br>\"] = df[\"plot\"].apply(remove_br)\n",
    "\n",
    "def remove_br(text):\n",
    "    return text.replace(\"<br>\", \" \")\n",
    "\n",
    "# Importing the dataset\n",
    "df = pd.read_csv(\"IMDB Dataset.csv\")\n",
    "df['review'] = df['review'].str.replace(r'<br\\s*/?>', '', regex=True)\n",
    "print(df)\n"
   ]
  },
  {
   "cell_type": "code",
   "execution_count": 27,
   "id": "d300bb83",
   "metadata": {},
   "outputs": [],
   "source": [
    "#Stem the document\n",
    "from nltk.stem.porter import PorterStemmer\n",
    "porter = PorterStemmer()\n",
    "\n",
    "def stemmer(text):\n",
    "    return [porter.stem(word) for word in text.split()]"
   ]
  },
  {
   "cell_type": "code",
   "execution_count": 28,
   "id": "9beaf504",
   "metadata": {},
   "outputs": [
    {
     "data": {
      "text/plain": [
       "['coder', 'love', 'code', 'and', 'thu', 'they', 'code']"
      ]
     },
     "execution_count": 28,
     "metadata": {},
     "output_type": "execute_result"
    }
   ],
   "source": [
    "stemmer(\"Coders love coding and thus they code\")"
   ]
  },
  {
   "cell_type": "markdown",
   "id": "001df961",
   "metadata": {},
   "source": [
    "## Formula\n",
    "### tf-idf (t,d) = tf(t,d) * idf(t,d)\n",
    "### idf(t,d) = log(nd/1+df(d,t)"
   ]
  },
  {
   "cell_type": "code",
   "execution_count": 29,
   "id": "ff8b1fca",
   "metadata": {},
   "outputs": [],
   "source": [
    "#Vectorization of doc\n",
    "from sklearn.feature_extraction.text import TfidfVectorizer\n",
    "tfidf = TfidfVectorizer(strip_accents = None, lowercase = False, norm = \"l2\", tokenizer = stemmer,use_idf = True, smooth_idf = True)"
   ]
  },
  {
   "cell_type": "code",
   "execution_count": 30,
   "id": "3cedc9d5",
   "metadata": {},
   "outputs": [],
   "source": [
    "Y = df.sentiment.values\n",
    "X = tfidf.fit_transform(df.review)"
   ]
  },
  {
   "cell_type": "code",
   "execution_count": 31,
   "id": "ae973eb9",
   "metadata": {},
   "outputs": [
    {
     "name": "stderr",
     "output_type": "stream",
     "text": [
      "/home/ankesh/.local/lib/python3.10/site-packages/sklearn/linear_model/_logistic.py:444: ConvergenceWarning: lbfgs failed to converge (status=1):\n",
      "STOP: TOTAL NO. of ITERATIONS REACHED LIMIT.\n",
      "\n",
      "Increase the number of iterations (max_iter) or scale the data as shown in:\n",
      "    https://scikit-learn.org/stable/modules/preprocessing.html\n",
      "Please also refer to the documentation for alternative solver options:\n",
      "    https://scikit-learn.org/stable/modules/linear_model.html#logistic-regression\n",
      "  n_iter_i = _check_optimize_result(\n",
      "/home/ankesh/.local/lib/python3.10/site-packages/sklearn/linear_model/_logistic.py:444: ConvergenceWarning: lbfgs failed to converge (status=1):\n",
      "STOP: TOTAL NO. of ITERATIONS REACHED LIMIT.\n",
      "\n",
      "Increase the number of iterations (max_iter) or scale the data as shown in:\n",
      "    https://scikit-learn.org/stable/modules/preprocessing.html\n",
      "Please also refer to the documentation for alternative solver options:\n",
      "    https://scikit-learn.org/stable/modules/linear_model.html#logistic-regression\n",
      "  n_iter_i = _check_optimize_result(\n",
      "/home/ankesh/.local/lib/python3.10/site-packages/sklearn/linear_model/_logistic.py:444: ConvergenceWarning: lbfgs failed to converge (status=1):\n",
      "STOP: TOTAL NO. of ITERATIONS REACHED LIMIT.\n",
      "\n",
      "Increase the number of iterations (max_iter) or scale the data as shown in:\n",
      "    https://scikit-learn.org/stable/modules/preprocessing.html\n",
      "Please also refer to the documentation for alternative solver options:\n",
      "    https://scikit-learn.org/stable/modules/linear_model.html#logistic-regression\n",
      "  n_iter_i = _check_optimize_result(\n",
      "/home/ankesh/.local/lib/python3.10/site-packages/sklearn/linear_model/_logistic.py:444: ConvergenceWarning: lbfgs failed to converge (status=1):\n",
      "STOP: TOTAL NO. of ITERATIONS REACHED LIMIT.\n",
      "\n",
      "Increase the number of iterations (max_iter) or scale the data as shown in:\n",
      "    https://scikit-learn.org/stable/modules/preprocessing.html\n",
      "Please also refer to the documentation for alternative solver options:\n",
      "    https://scikit-learn.org/stable/modules/linear_model.html#logistic-regression\n",
      "  n_iter_i = _check_optimize_result(\n",
      "/home/ankesh/.local/lib/python3.10/site-packages/sklearn/linear_model/_logistic.py:444: ConvergenceWarning: lbfgs failed to converge (status=1):\n",
      "STOP: TOTAL NO. of ITERATIONS REACHED LIMIT.\n",
      "\n",
      "Increase the number of iterations (max_iter) or scale the data as shown in:\n",
      "    https://scikit-learn.org/stable/modules/preprocessing.html\n",
      "Please also refer to the documentation for alternative solver options:\n",
      "    https://scikit-learn.org/stable/modules/linear_model.html#logistic-regression\n",
      "  n_iter_i = _check_optimize_result(\n"
     ]
    }
   ],
   "source": [
    "#Doc classification using logisitc regression\n",
    "from sklearn.model_selection import train_test_split\n",
    "X_train, X_test, Y_train, Y_test = train_test_split(X, Y, random_state = 1, test_size = 0.5, shuffle = False)\n",
    "\n",
    "import pickle\n",
    "from sklearn.linear_model import LogisticRegressionCV\n",
    "logit = LogisticRegressionCV(cv = 5, scoring = 'accuracy', max_iter = 100).fit(X_train, Y_train)\n",
    "saved_model = open('saved_model.sav', 'wb')\n",
    "pickle.dump(logit, saved_model)\n",
    "saved_model.close()"
   ]
  },
  {
   "cell_type": "code",
   "execution_count": 32,
   "id": "c6cabd45",
   "metadata": {},
   "outputs": [
    {
     "data": {
      "text/plain": [
       "0.88896"
      ]
     },
     "execution_count": 32,
     "metadata": {},
     "output_type": "execute_result"
    }
   ],
   "source": [
    "#Evaluate\n",
    "filename = 'saved_model.sav'\n",
    "saved_logit = pickle.load(open(filename, 'rb'))\n",
    "saved_logit.score(X_test, Y_test)"
   ]
  }
 ],
 "metadata": {
  "kernelspec": {
   "display_name": "Python 3.10.4 64-bit",
   "language": "python",
   "name": "python3"
  },
  "language_info": {
   "codemirror_mode": {
    "name": "ipython",
    "version": 3
   },
   "file_extension": ".py",
   "mimetype": "text/x-python",
   "name": "python",
   "nbconvert_exporter": "python",
   "pygments_lexer": "ipython3",
   "version": "3.10.4"
  },
  "vscode": {
   "interpreter": {
    "hash": "916dbcbb3f70747c44a77c7bcd40155683ae19c65e1c03b4aa3499c5328201f1"
   }
  }
 },
 "nbformat": 4,
 "nbformat_minor": 5
}
